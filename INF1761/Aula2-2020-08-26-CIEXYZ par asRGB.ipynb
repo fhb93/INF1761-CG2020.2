{
 "cells": [
  {
   "cell_type": "markdown",
   "metadata": {},
   "source": [
    "<h1>Conversão de cores do sistema CIEXYZ para o sistema sRGB"
   ]
  },
  {
   "cell_type": "code",
   "execution_count": 1,
   "metadata": {
    "ExecuteTime": {
     "end_time": "2020-08-26T18:42:11.344004Z",
     "start_time": "2020-08-26T18:42:11.341937Z"
    }
   },
   "outputs": [],
   "source": [
    "import numpy as np"
   ]
  },
  {
   "cell_type": "code",
   "execution_count": 5,
   "metadata": {
    "ExecuteTime": {
     "end_time": "2020-08-26T19:05:51.043998Z",
     "start_time": "2020-08-26T19:05:51.037752Z"
    }
   },
   "outputs": [
    {
     "name": "stdout",
     "output_type": "stream",
     "text": [
      "[0.5939945209724419, 0.5736438469594375, 0.6486990503458804]\n"
     ]
    }
   ],
   "source": [
    "def gamma(val):\n",
    "    if (val<0.0031308):\n",
    "        return 12.92*val\n",
    "    else:\n",
    "        return 1.055*val**(1.0/2.4)-0.055\n",
    "\n",
    "def CIEXYZ_to_sRGB(XYZ):\n",
    "    Minv = np.array([[3.2404542,-1.5371385,-0.4985314],\n",
    "                     [-0.9692660,1.8760108 ,0.0415560],\n",
    "                     [ 0.0556434,-0.2040259,1.0572252]])\n",
    "    rgb = np.dot(Minv,XYZ)\n",
    "    sRGB = [gamma(i) for i in rgb]\n",
    "    return sRGB\n",
    "\n",
    "sRGB=CIEXYZ_to_sRGB([0.3,0.3,0.4])\n",
    "print(sRGB)"
   ]
  },
  {
   "cell_type": "code",
   "execution_count": null,
   "metadata": {},
   "outputs": [],
   "source": [
    "\n"
   ]
  }
 ],
 "metadata": {
  "kernelspec": {
   "display_name": "Python 3",
   "language": "python",
   "name": "python3"
  },
  "language_info": {
   "codemirror_mode": {
    "name": "ipython",
    "version": 3
   },
   "file_extension": ".py",
   "mimetype": "text/x-python",
   "name": "python",
   "nbconvert_exporter": "python",
   "pygments_lexer": "ipython3",
   "version": "3.8.3"
  },
  "latex_envs": {
   "LaTeX_envs_menu_present": true,
   "autoclose": true,
   "autocomplete": true,
   "bibliofile": "biblio.bib",
   "cite_by": "apalike",
   "current_citInitial": 1,
   "eqLabelWithNumbers": true,
   "eqNumInitial": 1,
   "hotkeys": {
    "equation": "Ctrl-E",
    "itemize": "Ctrl-I"
   },
   "labels_anchors": false,
   "latex_user_defs": false,
   "report_style_numbering": false,
   "user_envs_cfg": false
  },
  "varInspector": {
   "cols": {
    "lenName": 16,
    "lenType": 16,
    "lenVar": 40
   },
   "kernels_config": {
    "python": {
     "delete_cmd_postfix": "",
     "delete_cmd_prefix": "del ",
     "library": "var_list.py",
     "varRefreshCmd": "print(var_dic_list())"
    },
    "r": {
     "delete_cmd_postfix": ") ",
     "delete_cmd_prefix": "rm(",
     "library": "var_list.r",
     "varRefreshCmd": "cat(var_dic_list()) "
    }
   },
   "types_to_exclude": [
    "module",
    "function",
    "builtin_function_or_method",
    "instance",
    "_Feature"
   ],
   "window_display": false
  }
 },
 "nbformat": 4,
 "nbformat_minor": 4
}
