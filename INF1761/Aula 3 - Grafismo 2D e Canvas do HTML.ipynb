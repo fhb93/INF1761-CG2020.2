{
 "cells": [
  {
   "cell_type": "markdown",
   "metadata": {},
   "source": [
    "<h1>Aula 3 - Grafismo 2D e Canvas do HTML</h1>"
   ]
  },
  {
   "cell_type": "code",
   "execution_count": 1,
   "metadata": {},
   "outputs": [],
   "source": [
    "from ipycanvas import Canvas"
   ]
  },
  {
   "cell_type": "code",
   "execution_count": 2,
   "metadata": {},
   "outputs": [],
   "source": [
    "def round_rect(canvas, x, y, w, h, r):\n",
    "    canvas.begin_path()\n",
    "    canvas.move_to(x + r, y)\n",
    "    canvas.arc_to(x + w, y, x + w, y + h, r)\n",
    "    canvas.arc_to(x + w, y + h, x, y + h, r)\n",
    "    canvas.arc_to(x, y + h, x, y, r)\n",
    "    canvas.arc_to(x, y, x + w, y, r)\n",
    "    canvas.close_path()"
   ]
  },
  {
   "cell_type": "code",
   "execution_count": 3,
   "metadata": {},
   "outputs": [
    {
     "data": {
      "application/vnd.jupyter.widget-view+json": {
       "model_id": "d038c33744a340b89919aab4d7e6e18e",
       "version_major": 2,
       "version_minor": 0
      },
      "text/plain": [
       "Canvas(height=400, sync_image_data=True, width=600)"
      ]
     },
     "metadata": {},
     "output_type": "display_data"
    }
   ],
   "source": [
    "w = 600\n",
    "h = 400\n",
    "canvas = Canvas(width = w, height = h, sync_image_data = True )\n",
    "\n",
    "canvas.fill_style = 'black'\n",
    "canvas.fill_rect(0, 0, w, h)\n",
    "\n",
    "canvas.fill_style = 'rgb(0,0,255)'\n",
    "canvas.fill_rect(10, 10, 60, 60)\n",
    "\n",
    "canvas.fill_style = 'white'\n",
    "canvas.stroke_style = 'red'\n",
    "round_rect(canvas, 100, 100, 140, 120, 20)\n",
    "canvas.fill()\n",
    "canvas.stroke()\n",
    "\n",
    "r = 230\n",
    "g = 200\n",
    "b = 10\n",
    "\n",
    "canvas.fill_style=f'rgb({r}, {g}, {b})'\n",
    "canvas.fill_rect(300, 300, 200, 10)\n",
    "\n",
    "canvas.fill_style = 'white'\n",
    "# canvas.stroke_style = 'red'\n",
    "# round_rect(canvas, 100, 100, 140, 120, 30)\n",
    "# canvas.fill()\n",
    "# canvas.stroke()\n",
    "\n",
    "canvas.font = '30px serif'\n",
    "canvas.fill_text(\"Manuela Silva\", 180, 32)\n",
    "\n",
    "canvas\n"
   ]
  },
  {
   "cell_type": "code",
   "execution_count": 4,
   "metadata": {},
   "outputs": [],
   "source": [
    "canvas.to_file('Teste2.png')"
   ]
  },
  {
   "cell_type": "code",
   "execution_count": null,
   "metadata": {},
   "outputs": [],
   "source": []
  }
 ],
 "metadata": {
  "kernelspec": {
   "display_name": "Python 3",
   "language": "python",
   "name": "python3"
  },
  "language_info": {
   "codemirror_mode": {
    "name": "ipython",
    "version": 3
   },
   "file_extension": ".py",
   "mimetype": "text/x-python",
   "name": "python",
   "nbconvert_exporter": "python",
   "pygments_lexer": "ipython3",
   "version": "3.8.3"
  }
 },
 "nbformat": 4,
 "nbformat_minor": 4
}
